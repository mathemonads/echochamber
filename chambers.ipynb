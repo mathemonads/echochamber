{
 "cells": [
  {
   "cell_type": "code",
   "execution_count": 1,
   "id": "1c51273d",
   "metadata": {},
   "outputs": [],
   "source": [
    "\n",
    "from sklearn.linear_model import LinearRegression\n",
    "import pandas as pd\n",
    "import numpy as np\n",
    "np.set_printoptions(precision=2, suppress=True)"
   ]
  },
  {
   "cell_type": "code",
   "execution_count": 2,
   "id": "50592c5f",
   "metadata": {},
   "outputs": [
    {
     "name": "stdout",
     "output_type": "stream",
     "text": [
      "[[ 1.25  1.05  1.12  1.57   nan]\n",
      " [ 0.83  1.13  1.02  0.35  0.18]\n",
      " [ 0.    0.35  0.21 -0.56  1.02]\n",
      " [-0.12   nan   nan   nan  0.98]]\n"
     ]
    }
   ],
   "source": [
    "def svd(matrix, threshold=0.008):\n",
    "    U, S, Vt = np.linalg.svd(matrix)\n",
    "    I = np.where(S > threshold)[0]\n",
    "    return U[:,I], np.diag(S[I]), Vt[I,:]\n",
    "\n",
    "\n",
    "# L = np.array([\n",
    "#     [1.25, 0.83, 0, -0.12],\n",
    "#     [1.05, 1.13, 0.35, np.nan],\n",
    "#     [1.12, 1.02, 0.21, np.nan],\n",
    "#     [1.57, 0.35, -0.56, np.nan],\n",
    "#     [np.nan, 0.18, 1.02, 0.98]\n",
    "# ])\n",
    "# L = L.T\n",
    "L = np.array([\n",
    "    [ 1.25,  1.05,  1.12,  1.57,   np.nan],\n",
    "    [ 0.83,  1.13,  1.02,  0.35,  0.18],\n",
    "    [ 0.  ,  0.35,  0.21, -0.56,  1.02],\n",
    "    [-0.12,   np.nan,   np.nan,   np.nan,  0.98]\n",
    "])\n",
    "print(L)"
   ]
  },
  {
   "cell_type": "code",
   "execution_count": 3,
   "id": "239ba00e",
   "metadata": {},
   "outputs": [
    {
     "name": "stdout",
     "output_type": "stream",
     "text": [
      "[[ 1.25  1.05  1.12  1.57]\n",
      " [ 0.83  1.13  1.02  0.35]\n",
      " [ 0.    0.35  0.21 -0.56]]\n"
     ]
    }
   ],
   "source": [
    "L = L[:-1, :-1]\n",
    "print(L)"
   ]
  },
  {
   "cell_type": "code",
   "execution_count": 4,
   "id": "ce55d724",
   "metadata": {},
   "outputs": [
    {
     "name": "stdout",
     "output_type": "stream",
     "text": [
      "[[1.12]\n",
      " [1.02]\n",
      " [0.21]]\n"
     ]
    }
   ],
   "source": [
    "r = 1 \n",
    "c = 2\n",
    "target = L[:,c].copy()\n",
    "print(target.reshape(-1, 1))"
   ]
  },
  {
   "cell_type": "code",
   "execution_count": 5,
   "id": "2ad042e6",
   "metadata": {},
   "outputs": [
    {
     "name": "stdout",
     "output_type": "stream",
     "text": [
      "M:\n",
      "[[ 1.25  1.05  1.12  1.57]\n",
      " [ 0.83  1.13   nan  0.35]\n",
      " [ 0.    0.35  0.21 -0.56]]\n",
      "L_m:\n",
      "[[ 1.25  1.05  1.57]\n",
      " [ 0.83  1.13  0.35]\n",
      " [ 0.    0.35 -0.56]]\n",
      "\n"
     ]
    }
   ],
   "source": [
    "def influence(matrix, instances=0, r=1, c=2, party_line=True):\n",
    "    M = matrix.copy()\n",
    "    if instances > 0:\n",
    "        echo = L[:,c].copy()\n",
    "        chamber = np.tile(echo[:,np.newaxis], (1,instances))\n",
    "        if not party_line:\n",
    "            chamber = chamber + np.random.normal(0, 1e-1, chamber.shape)\n",
    "        M = np.hstack((M, chamber))\n",
    "    M[r,c] = np.nan\n",
    "    minor = np.delete(M, c, axis=1)\n",
    "    return M, minor\n",
    "\n",
    "M, M_minor = influence(L, instances=0)\n",
    "print(f\"M:\\n{M}\\nL_m:\\n{M_minor}\\n\")"
   ]
  },
  {
   "cell_type": "code",
   "execution_count": 6,
   "id": "1a076865",
   "metadata": {},
   "outputs": [
    {
     "name": "stdout",
     "output_type": "stream",
     "text": [
      "M:\n",
      "[[ 1.25  1.05  1.12  1.57]\n",
      " [ 0.83  1.13   nan  0.35]\n",
      " [ 0.    0.35  0.21 -0.56]]\n",
      "[[ 1.25  1.05  1.12  1.57]\n",
      " [ 0.83  1.13  0.    0.35]\n",
      " [ 0.    0.35  0.21 -0.56]]\n",
      "M_m:\n",
      "[[ 1.25  1.05  1.57]\n",
      " [ 0.83  1.13  0.35]\n",
      " [ 0.    0.35 -0.56]]\n",
      "U:[[-0.86  0.33]\n",
      " [-0.51 -0.64]\n",
      " [ 0.05 -0.69]]\n",
      "S:\n",
      "[[2.61 0.  ]\n",
      " [0.   0.93]]\n",
      "Vt:[[-0.57 -0.56 -0.6 ]\n",
      " [-0.12 -0.66  0.74]]\n",
      "\n",
      "prior:\n",
      "[1.12  nan 0.21]\n",
      "target:\n",
      "[1.12 1.02 0.21]\n",
      "Estimates:\n",
      "[1.12 1.13 0.32]\n",
      "[1.12 1.   0.21]\n"
     ]
    }
   ],
   "source": [
    "def fill(L, L_minor, c=2):\n",
    "    U, S, Vt = svd(L_minor)\n",
    "    A = np.dot(U, np.dot(S, Vt))\n",
    "    k_nan = L[:,c]\n",
    "    Ln = np.nan_to_num(L, nan=0.0)\n",
    "    k = Ln[:,c]\n",
    "\n",
    "    non_nan = ~np.isnan(L[:,c])\n",
    "    mk = k[non_nan]\n",
    "    mA = A[non_nan,:]\n",
    "    d = np.linalg.norm(mA-mk[:,np.newaxis], axis=0)\n",
    "    nearest_c = np.argmin(d)\n",
    "    nearest_neighbor = A[:,nearest_c]\n",
    "    neighbor = nearest_neighbor + (Ln[:,c]-nearest_neighbor) * k / np.linalg.norm(k)\n",
    "\n",
    "    C = mA\n",
    "    coef, _, _, _ = np.linalg.lstsq(C, mk, rcond=None)\n",
    "    combo = np.dot(A, coef)\n",
    "    mixture = combo + (Ln[:,c]-combo) * k / np.linalg.norm(k)\n",
    "    return L, Ln, L_minor, k_nan, neighbor, mixture, U, S, Vt\n",
    "\n",
    "M, Mn, M_minor, k_M, neighbor_M, mixture_M, U_M, S_M, Vt_M = fill(M, M_minor, c=2)\n",
    "\n",
    "print(f\"M:\\n{M}\\n{Mn}\\nM_m:\\n{M_minor}\\nU:{U_M}\\nS:\\n{S_M}\\nVt:{Vt_M}\\n\")\n",
    "print(f\"prior:\\n{k_M}\\ntarget:\\n{target}\\nEstimates:\\n{neighbor_M}\\n{mixture_M}\")"
   ]
  },
  {
   "cell_type": "code",
   "execution_count": 7,
   "id": "7c22ffc2",
   "metadata": {},
   "outputs": [
    {
     "name": "stdout",
     "output_type": "stream",
     "text": [
      "F:\n",
      "[[ 1.25  1.05  1.12  1.57  1.12]\n",
      " [ 0.83  1.13   nan  0.35  1.02]\n",
      " [ 0.    0.35  0.21 -0.56  0.21]]\n",
      "[[ 1.25  1.05  1.12  1.57  1.12]\n",
      " [ 0.83  1.13  0.    0.35  1.02]\n",
      " [ 0.    0.35  0.21 -0.56  0.21]]\n",
      "F_m:\n",
      "[[ 1.25  1.05  1.57  1.12]\n",
      " [ 0.83  1.13  0.35  1.02]\n",
      " [ 0.    0.35 -0.56  0.21]]\n",
      "U:[[ 0.83  0.4 ]\n",
      " [ 0.56 -0.6 ]\n",
      " [-0.   -0.69]]\n",
      "S:[[3. 0.]\n",
      " [0. 1.]]\n",
      "V^*:\n",
      "[[ 0.5   0.5   0.5   0.5 ]\n",
      " [ 0.   -0.5   0.81 -0.31]]\n",
      "\n",
      "prior:\n",
      "[1.12  nan 0.21]\n",
      "target:\n",
      "[1.12 1.02 0.21]\n",
      "Estimates:\n",
      "[1.12 1.02 0.21]\n",
      "[1.12 1.01 0.21]\n",
      "C:\n",
      "[[ 1.25  1.05  1.12  1.57  1.12  1.12]\n",
      " [ 0.83  1.13   nan  0.35  1.02  1.02]\n",
      " [ 0.    0.35  0.21 -0.56  0.21  0.21]]\n",
      "[[ 1.25  1.05  1.12  1.57  1.12  1.12]\n",
      " [ 0.83  1.13  0.    0.35  1.02  1.02]\n",
      " [ 0.    0.35  0.21 -0.56  0.21  0.21]]\n",
      "C_m:\n",
      "[[ 1.25  1.05  1.57  1.12  1.12]\n",
      " [ 0.83  1.13  0.35  1.02  1.02]\n",
      " [ 0.    0.35 -0.56  0.21  0.21]]\n",
      "S:[[3.36 0.   0.  ]\n",
      " [0.   1.03 0.  ]\n",
      " [0.   0.   0.01]]\n",
      "\n",
      "prior:\n",
      "[1.12  nan 0.21]\n",
      "target:\n",
      "[1.12 1.02 0.21]\n",
      "Estimates:\n",
      "[1.12 1.02 0.21]\n",
      "[1.12 1.01 0.21]\n"
     ]
    }
   ],
   "source": [
    "F, F_minor = influence(L, instances=1)\n",
    "C, C_minor = influence(L, instances=2, party_line=True)\n",
    "\n",
    "F, Fn, F_minor, k_F, neighbor_F, mixture_F, U_F, S_F, Vt_F = fill(F, F_minor, c=2)\n",
    "print(f\"F:\\n{F}\\n{Fn}\\nF_m:\\n{F_minor}\\nU:{U_F}\\nS:{S_F}\\nV^*:\\n{Vt_F}\\n\")\n",
    "print(f\"prior:\\n{k_F}\\ntarget:\\n{target}\\nEstimates:\\n{neighbor_F}\\n{mixture_F}\")\n",
    "\n",
    "C, Cn, C_minor, k_C, neighbor_C, mixture_C, _, S_C, _ = fill(C, C_minor, c=2)\n",
    "print(f\"C:\\n{C}\\n{Cn}\\nC_m:\\n{C_minor}\\nS:{S_C}\\n\")\n",
    "print(f\"prior:\\n{k_C}\\ntarget:\\n{target}\\nEstimates:\\n{neighbor_C}\\n{mixture_C}\")\n"
   ]
  },
  {
   "cell_type": "code",
   "execution_count": 8,
   "id": "7d4a21ce",
   "metadata": {},
   "outputs": [
    {
     "name": "stdout",
     "output_type": "stream",
     "text": [
      "P:\n",
      "[[1.25 1.05 1.12 ... 1.04 0.97 1.04]\n",
      " [0.83 1.13  nan ... 0.81 1.04 0.94]\n",
      " [0.   0.35 0.21 ... 0.17 0.21 0.31]]\n",
      "[[1.25 1.05 1.12 ... 1.04 0.97 1.04]\n",
      " [0.83 1.13 0.   ... 0.81 1.04 0.94]\n",
      " [0.   0.35 0.21 ... 0.17 0.21 0.31]]\n",
      "P_m:\n",
      "[[ 1.25  1.05  1.57 ...  1.04  0.97  1.04]\n",
      " [ 0.83  1.13  0.35 ...  0.81  1.04  0.94]\n",
      " [ 0.    0.35 -0.56 ...  0.17  0.21  0.31]]\n",
      "\n",
      "S:[[35.71  0.    0.  ]\n",
      " [ 0.    2.54  0.  ]\n",
      " [ 0.    0.    2.35]]\n",
      "\n",
      "prior:\n",
      "[1.12  nan 0.21]\n",
      "target:\n",
      "[1.12 1.02 0.21]\n",
      "Estimates:\n",
      "[1.12 1.06 0.21]\n",
      "[1.12 1.01 0.21]\n"
     ]
    }
   ],
   "source": [
    "instances = 10000\n",
    "P, P_minor = influence(L, instances=538, party_line=False)\n",
    "P, Pn, P_minor, k_P, neighbor_P, mixture_P, _, S_P, _ = fill(P, P_minor, c=2)\n",
    "\n",
    "print(f\"P:\\n{P}\\n{Pn}\\nP_m:\\n{P_minor}\\n\")\n",
    "print(f\"S:{S_P}\\n\")\n",
    "print(f\"prior:\\n{k_P}\\ntarget:\\n{target}\\nEstimates:\\n{neighbor_P}\\n{mixture_P}\")"
   ]
  },
  {
   "cell_type": "code",
   "execution_count": 9,
   "id": "449fbffb",
   "metadata": {},
   "outputs": [
    {
     "name": "stdout",
     "output_type": "stream",
     "text": [
      "     Year Chamber          Party  Score\n",
      "0    1954   House  All Democrats   80.0\n",
      "1    1955   House  All Democrats   84.0\n",
      "2    1956   House  All Democrats   80.0\n",
      "3    1957   House  All Democrats   79.0\n",
      "4    1958   House  All Democrats   77.0\n",
      "..    ...     ...            ...    ...\n",
      "373  2012  Senate    Republicans   83.0\n",
      "374  2013  Senate    Republicans   89.0\n",
      "375  2014  Senate    Republicans   90.0\n",
      "376  2015  Senate    Republicans   91.0\n",
      "377  2016  Senate    Republicans   86.0\n",
      "\n",
      "[342 rows x 4 columns]\n",
      " Year Chamber         Party  Score\n",
      " 2016   House All Democrats   96.0\n",
      " 2016   House   Republicans   96.0\n",
      " 2016  Senate All Democrats   92.0\n",
      " 2016  Senate   Republicans   86.0\n"
     ]
    }
   ],
   "source": [
    "df = pd.read_csv(\"./vitalstats_ch8_tbl4.csv\")\n",
    "df[\"Score\"] = pd.to_numeric(df[\"Score\"], errors=\"coerce\")\n",
    "df = df.dropna(subset=[\"Score\"])\n",
    "latest = df[(df[\"Year\"] == 2016)]\n",
    "print(df)\n",
    "print(latest.to_string(index=False))"
   ]
  },
  {
   "cell_type": "code",
   "execution_count": 10,
   "id": "cf482b1c",
   "metadata": {},
   "outputs": [
    {
     "name": "stdout",
     "output_type": "stream",
     "text": [
      " Year Chamber         Party  Score\n",
      " 2014   House All Democrats   94.0\n",
      " 2014   House   Republicans   95.0\n",
      " 2014  Senate All Democrats   99.0\n",
      " 2014  Senate   Republicans   90.0\n"
     ]
    }
   ],
   "source": [
    "print(df[(df[\"Year\"] == 2014)].to_string(index=False))\n",
    "# https://www.brookings.edu/articles/vital-statistics-on-congress/"
   ]
  },
  {
   "cell_type": "markdown",
   "id": "b6c5df38",
   "metadata": {},
   "source": []
  }
 ],
 "metadata": {
  "kernelspec": {
   "display_name": "Python 3 (ipykernel)",
   "language": "python",
   "name": "python3"
  },
  "language_info": {
   "codemirror_mode": {
    "name": "ipython",
    "version": 3
   },
   "file_extension": ".py",
   "mimetype": "text/x-python",
   "name": "python",
   "nbconvert_exporter": "python",
   "pygments_lexer": "ipython3",
   "version": "3.10.12"
  }
 },
 "nbformat": 4,
 "nbformat_minor": 5
}
