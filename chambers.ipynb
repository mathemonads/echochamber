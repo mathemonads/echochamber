{
 "cells": [
  {
   "cell_type": "code",
   "execution_count": 1,
   "id": "1c51273d",
   "metadata": {},
   "outputs": [],
   "source": [
    "\n",
    "import matplotlib.pyplot as plt\n",
    "import numpy as np\n",
    "import pandas as pd\n",
    "from sklearn.linear_model import LinearRegression\n",
    "\n",
    "precision = 2\n",
    "np.set_printoptions(precision=precision, suppress=True)\n",
    "plt.rcParams[\"text.usetex\"] = True\n",
    "plt.rcParams[\"text.latex.preamble\"] = r\"\\usepackage{amsmath}\"\n",
    "VERBOSE = 1"
   ]
  },
  {
   "cell_type": "code",
   "execution_count": 2,
   "id": "32759a48",
   "metadata": {},
   "outputs": [
    {
     "name": "stdout",
     "output_type": "stream",
     "text": [
      "L:\n",
      "[[ 1.25  1.05  1.12  1.57]\n",
      " [ 0.83  1.13  1.02  0.35]\n",
      " [ 0.    0.35  0.21 -0.56]]\n",
      "Low-Rank Approximation of Singular Value Decomposition\n",
      "[[ 0.83  0.4 ]\n",
      " [ 0.56 -0.6 ]\n",
      " [-0.   -0.69]]\n",
      "Singular Values:\n",
      "[[3. 0.]\n",
      " [0. 1.]]\n",
      "[[ 0.5   0.5   0.5   0.5 ]\n",
      " [ 0.   -0.5  -0.31  0.81]]\n",
      "L, Approximation by full Singular Value Decomposition, Approximation by low-rank SVD\n",
      "[[ 1.25  1.05  1.12  1.57]\n",
      " [ 0.83  1.13  1.02  0.35]\n",
      " [-0.    0.35  0.21 -0.56]] 2.3713755970532924e-15\n",
      "[[ 1.25  1.05  1.12  1.57]\n",
      " [ 0.83  1.13  1.02  0.35]\n",
      " [-0.    0.35  0.21 -0.56]] 0.007812893588175152\n"
     ]
    }
   ],
   "source": [
    "def svd(matrix, threshold=-np.inf):\n",
    "    U, S, Vt = np.linalg.svd(matrix)\n",
    "    I = np.where(S > threshold)[0]\n",
    "    return U[:,I], np.diag(S[I]), Vt[I,:]\n",
    "\n",
    "L = np.array([\n",
    "    [ 1.25,  1.05,  1.12,  1.57,   np.nan],\n",
    "    [ 0.83,  1.13,  1.02,  0.35,  0.18],\n",
    "    [ 0.  ,  0.35,  0.21, -0.56,  1.02],\n",
    "    [-0.12,   np.nan,   np.nan,   np.nan,  0.98]\n",
    "])\n",
    "L = L[:-1, :-1]\n",
    "U_high, S_high, Vt_high = svd(L, threshold=-np.inf)\n",
    "A_high = np.dot(U_high, np.dot(S_high, Vt_high))\n",
    "U_low, S_low, Vt_low = svd(L, threshold=0.008)\n",
    "A_low = np.dot(U_low, np.dot(S_low, Vt_low))\n",
    "print(f\"L:\\n{L}\")\n",
    "print(\"Low-Rank Approximation of Singular Value Decomposition\")\n",
    "print(U_low)\n",
    "print(\"Singular Values:\")\n",
    "print(S_low)\n",
    "print(Vt_low)\n",
    "print(\"L, Approximation by full Singular Value Decomposition, Approximation by low-rank SVD\")\n",
    "print(A_high, np.linalg.norm(L - A_high))\n",
    "print(A_low, np.linalg.norm(L - A_low))"
   ]
  },
  {
   "cell_type": "code",
   "execution_count": 3,
   "id": "50592c5f",
   "metadata": {},
   "outputs": [
    {
     "name": "stdout",
     "output_type": "stream",
     "text": [
      "[[ 1.25  0.83  0.  ]\n",
      " [ 1.05  1.13  0.35]\n",
      " [ 1.12  1.02  0.21]\n",
      " [ 1.57  0.35 -0.56]]\n"
     ]
    }
   ],
   "source": [
    "L = np.array([\n",
    "    [1.25, 0.83, 0, -0.12],\n",
    "    [1.05, 1.13, 0.35, np.nan],\n",
    "    [1.12, 1.02, 0.21, np.nan],\n",
    "    [1.57, 0.35, -0.56, np.nan],\n",
    "    [np.nan, 0.18, 1.02, 0.98]\n",
    "])\n",
    "L = L[:-1,:-1]\n",
    "print(L)"
   ]
  },
  {
   "cell_type": "code",
   "execution_count": 4,
   "id": "239ba00e",
   "metadata": {},
   "outputs": [
    {
     "name": "stdout",
     "output_type": "stream",
     "text": [
      "[[ 1.25  0.83  0.  ]\n",
      " [ 1.05  1.13  0.35]\n",
      " [ 1.12  1.02  0.21]\n",
      " [ 1.57  0.35 -0.56]] 8.782087925385518e-16\n",
      "[[-0.5   0.    0.31]\n",
      " [-0.5  -0.5   0.5 ]\n",
      " [-0.5  -0.31 -0.81]\n",
      " [-0.5   0.81 -0.  ]]\n",
      "[[3.   0.   0.  ]\n",
      " [0.   1.   0.  ]\n",
      " [0.   0.   0.01]]\n",
      "[[-0.83 -0.56  0.  ]\n",
      " [ 0.4  -0.6  -0.69]\n",
      " [ 0.39 -0.58  0.72]]\n"
     ]
    }
   ],
   "source": [
    "U, S, Vt = svd(L)\n",
    "A = np.dot(U, np.dot(S, Vt))\n",
    "print(A, np.linalg.norm(L-A))\n",
    "print(U)\n",
    "print(S)\n",
    "print(Vt)"
   ]
  },
  {
   "cell_type": "code",
   "execution_count": 5,
   "id": "ce55d724",
   "metadata": {},
   "outputs": [
    {
     "name": "stdout",
     "output_type": "stream",
     "text": [
      "[1.12 1.02 0.21]\n"
     ]
    }
   ],
   "source": [
    "r = 2\n",
    "target = L[r,:].copy()\n",
    "print(target)"
   ]
  },
  {
   "cell_type": "code",
   "execution_count": 6,
   "id": "2ad042e6",
   "metadata": {},
   "outputs": [
    {
     "name": "stdout",
     "output_type": "stream",
     "text": [
      "\n",
      "target: [1.12 1.02 0.21]\n",
      "M:\n",
      "[[ 1.25  0.83  0.  ]\n",
      " [ 1.05  1.13  0.35]\n",
      " [ 1.12   nan  0.21]\n",
      " [ 1.57  0.35 -0.56]]\n",
      "M_m:\n",
      "[[ 1.25  0.83  0.  ]\n",
      " [ 1.05  1.13  0.35]\n",
      " [ 1.57  0.35 -0.56]]\n",
      "\n"
     ]
    }
   ],
   "source": [
    "def influence_user(matrix, instances=0, r=2, c=1, party_line=True):\n",
    "    M = matrix.copy()\n",
    "    if instances > 0:\n",
    "        tell = np.zeros((M.shape[0], instances))\n",
    "        tell[r,:] = 1.0\n",
    "        M = np.hstack((M, tell))\n",
    "        echo = M[r,:].copy()\n",
    "        chamber = np.tile(echo[np.newaxis,:], (instances,1))\n",
    "        M = np.vstack((M, chamber))\n",
    "    target = M[r,:].copy()\n",
    "    M[r,c] = np.nan\n",
    "    minor = np.delete(M, r, axis=0)\n",
    "    return M, minor, target\n",
    "\n",
    "M, M_minor, target = influence_user(L, instances=0)\n",
    "print(f\"\\ntarget: {target}\\nM:\\n{M}\\nM_m:\\n{M_minor}\\n\")"
   ]
  },
  {
   "cell_type": "code",
   "execution_count": 7,
   "id": "1a076865",
   "metadata": {},
   "outputs": [
    {
     "name": "stdout",
     "output_type": "stream",
     "text": [
      "Non-normalized Target, Target: [1.12 1.02 0.21], [0.73 0.67 0.14]\n",
      "L:\n",
      "[[ 1.25  0.83  0.  ]\n",
      " [ 1.05  1.13  0.35]\n",
      " [ 1.12   nan  0.21]\n",
      " [ 1.57  0.35 -0.56]]\n",
      "Minor:\n",
      "[[ 1.25  0.83  0.  ]\n",
      " [ 1.05  1.13  0.35]\n",
      " [ 1.57  0.35 -0.56]]\n",
      "prior: [1.12  nan 0.21]\n",
      "U:\n",
      "[[-0.57 -0.12 -0.81]\n",
      " [-0.56 -0.66  0.5 ]\n",
      " [-0.6   0.74  0.31]]\n",
      "Singular Values:\n",
      "[[2.61 0.   0.  ]\n",
      " [0.   0.93 0.  ]\n",
      " [0.   0.   0.  ]]\n",
      "V^*:\n",
      "[[-0.86 -0.51  0.05]\n",
      " [ 0.33 -0.64 -0.69]\n",
      " [ 0.39 -0.58  0.72]]\n",
      "Target, Estimate:\n",
      "[0.73 0.67 0.14]\n",
      "[ 0.89  0.45 -0.11]\n",
      "L_2 error: 0.3642154068358112\n",
      "\n"
     ]
    },
    {
     "data": {
      "text/plain": [
       "(0.3642154068358112, array([2.61, 0.93, 0.  ]))"
      ]
     },
     "execution_count": 7,
     "metadata": {},
     "output_type": "execute_result"
    }
   ],
   "source": [
    "def fill(L, c=2, instances=0, verbose=1):\n",
    "    L, L_minor = influence(L.copy(), instances=instances)\n",
    "    prior = L[:,c]\n",
    "    print(f\"L:\\n{L}\\nL_m = maximal complete minor of L:\\n{L_minor}\\nprior = new column with missing entries to be determined:\\n{prior.reshape(-1,1)}\")\n",
    "    U, S, Vt = svd(L_minor)\n",
    "    print(f\"Singular Value Decomposition U S Vt of the minor\")\n",
    "    print(U.shape, S.shape, Vt.shape)\n",
    "    print(f\"U:{U}\\nS:\\n{S}\\nVt:{Vt}\\n\")\n",
    "    r = 1\n",
    "    prior[r] = np.nan\n",
    "    non_nan = ~np.isnan(prior) \n",
    "    x = prior[non_nan]\n",
    "    U_n = U[non_nan]\n",
    "    coef = np.dot(U_n.T, x) / np.linalg.norm(U, axis=0)**2\n",
    "    post = np.dot(U, coef)\n",
    "    est = np.dot(U, coef)\n",
    "    print(coef)\n",
    "    print(est)\n",
    "    print(U.shape, coef.shape, est.shape)\n",
    "\n",
    "    A = np.dot(U, np.dot(S, Vt))\n",
    "    Ln = np.nan_to_num(L, nan=0.0)\n",
    "    k = Ln[:,c]\n",
    "\n",
    "    mk = k[non_nan]\n",
    "    mA = A[non_nan,:]\n",
    "    d = np.linalg.norm(mA-mk[:,np.newaxis], axis=0)\n",
    "    nearest_c = np.argmin(d)\n",
    "    nearest_neighbor = A[:,nearest_c]\n",
    "    neighbor = nearest_neighbor + (Ln[:,c]-nearest_neighbor) * k / np.linalg.norm(k)\n",
    "\n",
    "    C = mA\n",
    "    coef, _, _, _ = np.linalg.lstsq(C, mk, rcond=None)\n",
    "    combo = np.dot(A, coef)\n",
    "    mixture = combo + (Ln[:,c]-combo) * k / np.linalg.norm(k)\n",
    "    guess = est + (Ln[:,c] - est) * k / np.linalg.norm(k)\n",
    "    print(f\"guess: {guess}\")\n",
    "    return L.copy(), Ln.copy(), L_minor.copy(), neighbor, mixture, U, S, Vt, est, e\n",
    "\n",
    "def fill_user(L, r=2, instances=0, threshold=-np.inf, verbose=VERBOSE):\n",
    "    L,L_minor,target = influence_user(L, instances=instances)\n",
    "    unit = target / np.linalg.norm(target)\n",
    "    prior = L[r,:]\n",
    "\n",
    "    U, S, Vt = svd(L_minor, threshold=threshold)\n",
    "\n",
    "    non_nan = ~np.isnan(prior)\n",
    "    x = prior[non_nan]\n",
    "    Vt_n = Vt\n",
    "    for c in range(len(non_nan)):\n",
    "        if not non_nan[c]:\n",
    "            Vt_n = np.delete(Vt_n, c, axis=1)\n",
    "    c = np.dot(x, Vt_n.T)\n",
    "    post = np.dot(c, Vt)\n",
    "    est = np.dot(c, np.dot(S, Vt))\n",
    "    n = np.linalg.norm(est)\n",
    "    est_norm = est / n\n",
    "    e = np.linalg.norm(est_norm-unit)\n",
    "\n",
    "    if verbose > 0:\n",
    "        if verbose > 1:\n",
    "            print(f\"Non-normalized Target, Target: {target}, {unit}\")\n",
    "            print(f\"L:\\n{L}\")\n",
    "            print(f\"Minor:\\n{L_minor}\")\n",
    "            print(f\"prior: {prior}\")\n",
    "            print(f\"U:\\n{U}\")\n",
    "        print(f\"Singular Values:\\n{S}\")\n",
    "        if verbose > 1:\n",
    "            print(f\"V^*:\\n{Vt}\")\n",
    "            print(f\"Target, Estimate:\\n{unit}\\n{est_norm}\")\n",
    "        print(f\"L_2 error: {e}\\n\")\n",
    "    return e, np.diagonal(S)\n",
    "\n",
    "fill_user(L, instances=0, verbose=2)"
   ]
  },
  {
   "cell_type": "code",
   "execution_count": 8,
   "id": "7c22ffc2",
   "metadata": {},
   "outputs": [
    {
     "name": "stdout",
     "output_type": "stream",
     "text": [
      "Non-normalized Target, Target: [1.12 1.02 0.21 1.  ], [0.61 0.56 0.11 0.55]\n",
      "L:\n",
      "[[ 1.25  0.83  0.    0.  ]\n",
      " [ 1.05  1.13  0.35  0.  ]\n",
      " [ 1.12   nan  0.21  1.  ]\n",
      " [ 1.57  0.35 -0.56  0.  ]\n",
      " [ 1.12  1.02  0.21  1.  ]]\n",
      "Minor:\n",
      "[[ 1.25  0.83  0.    0.  ]\n",
      " [ 1.05  1.13  0.35  0.  ]\n",
      " [ 1.57  0.35 -0.56  0.  ]\n",
      " [ 1.12  1.02  0.21  1.  ]]\n",
      "prior: [1.12  nan 0.21 1.  ]\n",
      "U:\n",
      "[[-0.48  0.14  0.3   0.81]\n",
      " [-0.49 -0.24  0.68 -0.5 ]\n",
      " [-0.48  0.76 -0.31 -0.31]\n",
      " [-0.54 -0.59 -0.6   0.  ]]\n",
      "Singular Values:\n",
      "[[3.04 0.   0.   0.  ]\n",
      " [0.   1.09 0.   0.  ]\n",
      " [0.   0.   0.73 0.  ]\n",
      " [0.   0.   0.   0.  ]]\n",
      "V^*:\n",
      "[[-0.82 -0.55 -0.   -0.18]\n",
      " [ 0.42 -0.45 -0.58 -0.54]\n",
      " [-0.09  0.4   0.39 -0.82]\n",
      " [ 0.39 -0.58  0.72  0.01]]\n",
      "Target, Estimate:\n",
      "[0.61 0.56 0.11 0.55]\n",
      "[ 0.79  0.49 -0.03  0.36]\n",
      "L_2 error: 0.30596481850093854\n",
      "\n",
      "0 / 269\n",
      "10 / 269\n",
      "20 / 269\n",
      "30 / 269\n",
      "40 / 269\n",
      "50 / 269\n",
      "60 / 269\n",
      "70 / 269\n",
      "80 / 269\n",
      "90 / 269\n",
      "100 / 269\n",
      "110 / 269\n",
      "120 / 269\n",
      "130 / 269\n",
      "140 / 269\n",
      "150 / 269\n",
      "160 / 269\n",
      "170 / 269\n",
      "180 / 269\n",
      "190 / 269\n",
      "200 / 269\n",
      "210 / 269\n",
      "220 / 269\n",
      "230 / 269\n",
      "240 / 269\n",
      "250 / 269\n",
      "260 / 269\n",
      "269 / 269\n"
     ]
    },
    {
     "data": {
      "image/png": "[encoded data removed]",
      "text/plain": [
       "<Figure size 864x360 with 2 Axes>"
      ]
     },
     "metadata": {
      "needs_background": "light"
     },
     "output_type": "display_data"
    }
   ],
   "source": [
    "fill_user(L, instances=1, verbose=2)\n",
    "\n",
    "e = []\n",
    "num_users = 538\n",
    "max_instances = int(num_users / 2)\n",
    "INSTANCES = np.array(range(0,max_instances+1))\n",
    "Lam = np.zeros((len(INSTANCES),3))\n",
    "\n",
    "for instances in INSTANCES:\n",
    "    if (instances % 10 == 0) or (instances==max_instances):\n",
    "        print(f\"{instances} / {max_instances:3}\")\n",
    "    ei, Si = fill_user(L, instances=instances, verbose=0)\n",
    "    e.append(ei)\n",
    "    Lam[instances,0] = Si[0]\n",
    "    Lam[instances,1] = Si[1]\n",
    "    Lam[instances,2] = Si[2]\n",
    "\n",
    "l = LinearRegression().fit(np.log(INSTANCES[1:].reshape(-1,1)), np.log(e[1:]))\n",
    "p = LinearRegression().fit(INSTANCES.reshape(-1,1), Lam[:,0])\n",
    "ps = p.score(INSTANCES.reshape(-1,1), Lam[:,0])\n",
    "    \n",
    "fig,ax = plt.subplots(1,2, figsize=(12,5))\n",
    "plt.title(\"Plots\")\n",
    "\n",
    "ax[0].plot(INSTANCES[1:], np.exp(np.log(INSTANCES[1:])*l.coef_[0] + l.intercept_), label=f\"$\\displaystyle y=\\exp({l.intercept_:.3f})x^c, c={l.coef_[0]:.3f}$\", linestyle=\"-\", color=\"red\")\n",
    "ax[0].scatter(INSTANCES[1:], e[1:], label=r\"$L_2$ error of predicted row\", marker=\"|\", s=1, color=\"blue\", zorder=3)\n",
    "ax[0].set_title(r\"$L_2$ error of predicted row\")\n",
    "# ax[0].set_yscale(\"log\")\n",
    "# ax[0].set_xscale(\"log\")\n",
    "ax[0].set_xlabel(\"Number of instances\")\n",
    "ax[0].set_ylabel(r\"$L_2$ error of predicted row\")\n",
    "ax[0].grid(True, which=\"both\")\n",
    "ax[0].legend()\n",
    "\n",
    "ax[1].plot(INSTANCES, INSTANCES*p.coef_[0] + p.intercept_, label=f\"y={p.coef_[0]:.3f}x+{p.intercept_:.3f}\", linestyle=\"-\", color=\"red\")\n",
    "ax[1].plot(INSTANCES, Lam[:,2], label=r\"$\\sigma_3$\")\n",
    "ax[1].plot(INSTANCES, Lam[:,1], label=r\"$\\sigma_2$\")\n",
    "ax[1].scatter(INSTANCES, Lam[:,0], label=r'$\\sigma_1$', marker=\"|\", s=1, color=\"blue\", zorder=3)\n",
    "ax[1].set_title(f\"Eigenvalues, Principal grows linearly with score = {ps:.5f}\")\n",
    "# ax[1].set_yscale(\"log\")\n",
    "# ax[1].set_xscale(\"log\")\n",
    "ax[1].set_xlabel(\"Number of instances\")\n",
    "ax[1].set_ylabel(\"Singular Values\")\n",
    "ax[1].grid(True, which=\"both\")\n",
    "ax[1].legend()\n",
    "\n",
    "plt.tight_layout()\n",
    "plt.show()"
   ]
  },
  {
   "cell_type": "code",
   "execution_count": 9,
   "id": "a69e185d",
   "metadata": {},
   "outputs": [
    {
     "name": "stdout",
     "output_type": "stream",
     "text": [
      "Singular Values:\n",
      "[[270.17   0.     0.  ]\n",
      " [  0.     2.6    0.  ]\n",
      " [  0.     0.     0.93]]\n",
      "L_2 error: 0.0003217709406165531\n",
      "\n"
     ]
    },
    {
     "data": {
      "text/plain": [
       "(0.0003217709406165531, array([270.17,   2.6 ,   0.93]))"
      ]
     },
     "execution_count": 9,
     "metadata": {},
     "output_type": "execute_result"
    }
   ],
   "source": [
    "instances = int(538/2)\n",
    "fill_user(L, instances=instances, verbose=1, threshold=1e-11)\n",
    "\n",
    "# F, F_minor = influence(L, instances=1)\n",
    "# C, C_minor = influence(L, instances=2, party_line=True)\n",
    "\n",
    "# F, Fn, F_minor, k_F, neighbor_F, mixture_F, U_F, S_F, Vt_F = fill(F, F_minor, c=2)\n",
    "# print(f\"F:\\n{F}\\n{Fn}\\nF_m:\\n{F_minor}\\nU:{U_F}\\nS:{S_F}\\nV^*:\\n{Vt_F}\\n\")\n",
    "# print(f\"prior:\\n{k_F}\\ntarget:\\n{target}\\nEstimates:\\n{neighbor_F}\\n{mixture_F}\")\n",
    "\n",
    "# C, Cn, C_minor, k_C, neighbor_C, mixture_C, _, S_C, _ = fill(C, C_minor, c=2)\n",
    "# print(f\"C:\\n{C}\\n{Cn}\\nC_m:\\n{C_minor}\\nS:{S_C}\\n\")\n",
    "# print(f\"prior:\\n{k_C}\\ntarget:\\n{target}\\nEstimates:\\n{neighbor_C}\\n{mixture_C}\")\n",
    "\n",
    "# P, P_minor = influence(L, instances=538, party_line=False)\n",
    "# P, Pn, P_minor, k_P, neighbor_P, mixture_P, _, S_P, _ = fill(P, P_minor, c=2)\n",
    "\n",
    "# print(f\"P:\\n{P}\\n{Pn}\\nP_m:\\n{P_minor}\\n\")\n",
    "# print(f\"S:{S_P}\\n\")\n",
    "# print(f\"prior:\\n{k_P}\\ntarget:\\n{target}\\nEstimates:\\n{neighbor_P}\\n{mixture_P}\")"
   ]
  },
  {
   "cell_type": "code",
   "execution_count": 10,
   "id": "449fbffb",
   "metadata": {},
   "outputs": [
    {
     "name": "stdout",
     "output_type": "stream",
     "text": [
      "     Year Chamber          Party Score\n",
      "0    1954   House  All Democrats    80\n",
      "1    1955   House  All Democrats    84\n",
      "2    1956   House  All Democrats    80\n",
      "3    1957   House  All Democrats    79\n",
      "4    1958   House  All Democrats    77\n",
      "..    ...     ...            ...   ...\n",
      "373  2012  Senate    Republicans    83\n",
      "374  2013  Senate    Republicans    89\n",
      "375  2014  Senate    Republicans    90\n",
      "376  2015  Senate    Republicans    91\n",
      "377  2016  Senate    Republicans    86\n",
      "\n",
      "[378 rows x 4 columns]\n",
      " Year Chamber         Party  Score\n",
      " 2016   House All Democrats   96.0\n",
      " 2016   House   Republicans   96.0\n",
      " 2016  Senate All Democrats   92.0\n",
      " 2016  Senate   Republicans   86.0\n"
     ]
    }
   ],
   "source": [
    "df = pd.read_csv(\"./vitalstats_ch8_tbl4.csv\")\n",
    "print(df)\n",
    "df[\"Score\"] = pd.to_numeric(df[\"Score\"], errors=\"coerce\")\n",
    "df = df.dropna(subset=[\"Score\"])\n",
    "latest = df[(df[\"Year\"] == 2016)]\n",
    "print(latest.to_string(index=False))"
   ]
  },
  {
   "cell_type": "code",
   "execution_count": 11,
   "id": "cf482b1c",
   "metadata": {},
   "outputs": [
    {
     "name": "stdout",
     "output_type": "stream",
     "text": [
      " Year Chamber         Party  Score\n",
      " 2014   House All Democrats   94.0\n",
      " 2014   House   Republicans   95.0\n",
      " 2014  Senate All Democrats   99.0\n",
      " 2014  Senate   Republicans   90.0\n"
     ]
    }
   ],
   "source": [
    "print(df[(df[\"Year\"] == 2014)].to_string(index=False))\n",
    "# https://www.brookings.edu/articles/vital-statistics-on-congress/"
   ]
  },
  {
   "cell_type": "markdown",
   "id": "b6c5df38",
   "metadata": {},
   "source": []
  }
 ],
 "metadata": {
  "kernelspec": {
   "display_name": "Python 3 (ipykernel)",
   "language": "python",
   "name": "python3"
  },
  "language_info": {
   "codemirror_mode": {
    "name": "ipython",
    "version": 3
   },
   "file_extension": ".py",
   "mimetype": "text/x-python",
   "name": "python",
   "nbconvert_exporter": "python",
   "pygments_lexer": "ipython3",
   "version": "3.10.12"
  }
 },
 "nbformat": 4,
 "nbformat_minor": 5
}
